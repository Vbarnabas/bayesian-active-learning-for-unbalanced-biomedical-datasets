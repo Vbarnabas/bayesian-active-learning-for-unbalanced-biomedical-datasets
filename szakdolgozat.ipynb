{
 "cells": [
  {
   "cell_type": "code",
   "execution_count": 7,
   "id": "initial_id",
   "metadata": {
    "collapsed": true,
    "ExecuteTime": {
     "end_time": "2024-09-22T15:24:52.086632600Z",
     "start_time": "2024-09-22T15:24:51.481310100Z"
    }
   },
   "outputs": [
    {
     "name": "stdout",
     "output_type": "stream",
     "text": [
      "Training time: 0.30356812477111816 seconds\n",
      "Accuracy: 82.98%\n",
      "Confusion Matrix:\n",
      "[[115  10]\n",
      " [ 14   2]]\n",
      "Classification Report:\n",
      "              precision    recall  f1-score   support\n",
      "\n",
      "           0       0.89      0.92      0.91       125\n",
      "           1       0.17      0.12      0.14        16\n",
      "\n",
      "    accuracy                           0.83       141\n",
      "   macro avg       0.53      0.52      0.52       141\n",
      "weighted avg       0.81      0.83      0.82       141\n"
     ]
    }
   ],
   "source": [
    "import pandas as pd\n",
    "import time\n",
    "from sklearn.model_selection import train_test_split\n",
    "from sklearn.linear_model import LogisticRegression\n",
    "from sklearn.metrics import accuracy_score, confusion_matrix, classification_report\n",
    "\n",
    "# Step 1: Load the dataset\n",
    "# Assuming the dataset is in CSV format and you have the path to it\n",
    "data = pd.read_csv('data.csv')\n",
    "\n",
    "# Step 2: Prepare features (X) and target (y)\n",
    "X = data.drop(columns=['vital.status'])  # Drop the target column to get the features\n",
    "y = data['vital.status']  # Target variable (0 = survived, 1 = died)\n",
    "\n",
    "# Step 3: Split the data into training and testing sets (80% train, 20% test)\n",
    "X_train, X_test, y_train, y_test = train_test_split(X, y, test_size=0.2, random_state=42)\n",
    "\n",
    "# Step 4: Initialize and train the Logistic Regression model\n",
    "start_time = time.time()\n",
    "asd = 1;\n",
    "log_reg = LogisticRegression(max_iter=1000, solver='lbfgs')\n",
    "log_reg.fit(X_train, y_train)\n",
    "end_time = time.time()\n",
    "\n",
    "print(f\"Training time: {end_time - start_time} seconds\")\n",
    "\n",
    "# Step 5: Make predictions on the test set\n",
    "y_pred = log_reg.predict(X_test)\n",
    "\n",
    "# Step 6: Evaluate the model\n",
    "accuracy = accuracy_score(y_test, y_pred)\n",
    "conf_matrix = confusion_matrix(y_test, y_pred)\n",
    "class_report = classification_report(y_test, y_pred)\n",
    "\n",
    "# Output the results\n",
    "print(f\"Accuracy: {accuracy * 100:.2f}%\")\n",
    "print(\"Confusion Matrix:\")\n",
    "print(conf_matrix)\n",
    "print(\"Classification Report:\")\n",
    "print(class_report)\n"
   ]
  },
  {
   "cell_type": "code",
   "execution_count": 7,
   "outputs": [],
   "source": [],
   "metadata": {
    "collapsed": false,
    "ExecuteTime": {
     "end_time": "2024-09-22T15:24:52.086632600Z",
     "start_time": "2024-09-22T15:24:52.082141Z"
    }
   },
   "id": "622a9a3e7af32a8a"
  }
 ],
 "metadata": {
  "kernelspec": {
   "display_name": "Python 3",
   "language": "python",
   "name": "python3"
  },
  "language_info": {
   "codemirror_mode": {
    "name": "ipython",
    "version": 2
   },
   "file_extension": ".py",
   "mimetype": "text/x-python",
   "name": "python",
   "nbconvert_exporter": "python",
   "pygments_lexer": "ipython2",
   "version": "2.7.6"
  }
 },
 "nbformat": 4,
 "nbformat_minor": 5
}
